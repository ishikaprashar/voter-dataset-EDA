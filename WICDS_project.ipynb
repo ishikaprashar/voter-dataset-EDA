{
  "nbformat": 4,
  "nbformat_minor": 0,
  "metadata": {
    "colab": {
      "provenance": []
    },
    "kernelspec": {
      "name": "python3",
      "display_name": "Python 3"
    },
    "language_info": {
      "name": "python"
    }
  },
  "cells": [
    {
      "cell_type": "markdown",
      "source": [
        "Importing necessary libraries"
      ],
      "metadata": {
        "id": "ZEWVK462N4C4"
      }
    },
    {
      "cell_type": "code",
      "execution_count": null,
      "metadata": {
        "id": "fOeaeDhVKKzA"
      },
      "outputs": [],
      "source": [
        "import numpy as np\n",
        "import pandas as pd\n",
        "import seaborn as sns\n",
        "from matplotlib import pyplot as ppt"
      ]
    },
    {
      "cell_type": "markdown",
      "source": [
        "Uplodaing data\n",
        "\n",
        "Downlaod the dataset here: https://www.kaggle.com/yamqwe/us-non-voters-poll-datae"
      ],
      "metadata": {
        "id": "vWNX0Sd3N7Pi"
      }
    },
    {
      "cell_type": "code",
      "source": [
        "from google.colab import drive\n",
        "drive.mount(\"/content/drive\", force_remount=True)\n",
        "filepath = \"/content/drive/MyDrive/nonvoters_data.csv\"\n",
        "nonvoter = pd.read_csv(filepath)"
      ],
      "metadata": {
        "colab": {
          "base_uri": "https://localhost:8080/"
        },
        "id": "E3PfdpJ3L-sW",
        "outputId": "59b178a1-21ae-4c3a-b4ee-2ccec1e609c6"
      },
      "execution_count": null,
      "outputs": [
        {
          "output_type": "stream",
          "name": "stdout",
          "text": [
            "Mounted at /content/drive\n"
          ]
        }
      ]
    },
    {
      "cell_type": "markdown",
      "source": [
        "Taking a look at the data in general"
      ],
      "metadata": {
        "id": "tCzzoXSqODtP"
      }
    },
    {
      "cell_type": "code",
      "source": [
        "nonvoter.head()"
      ],
      "metadata": {
        "colab": {
          "base_uri": "https://localhost:8080/",
          "height": 386
        },
        "id": "5geRgVsuMNz5",
        "outputId": "699b81f5-c124-4e7e-b6cc-24fb684db16a"
      },
      "execution_count": null,
      "outputs": [
        {
          "output_type": "execute_result",
          "data": {
            "text/html": [
              "\n",
              "  <div id=\"df-cba0046b-d7ec-41cd-a825-93b56ba64434\">\n",
              "    <div class=\"colab-df-container\">\n",
              "      <div>\n",
              "<style scoped>\n",
              "    .dataframe tbody tr th:only-of-type {\n",
              "        vertical-align: middle;\n",
              "    }\n",
              "\n",
              "    .dataframe tbody tr th {\n",
              "        vertical-align: top;\n",
              "    }\n",
              "\n",
              "    .dataframe thead th {\n",
              "        text-align: right;\n",
              "    }\n",
              "</style>\n",
              "<table border=\"1\" class=\"dataframe\">\n",
              "  <thead>\n",
              "    <tr style=\"text-align: right;\">\n",
              "      <th></th>\n",
              "      <th>RespId</th>\n",
              "      <th>weight</th>\n",
              "      <th>Q1</th>\n",
              "      <th>Q2_1</th>\n",
              "      <th>Q2_2</th>\n",
              "      <th>Q2_3</th>\n",
              "      <th>Q2_4</th>\n",
              "      <th>Q2_5</th>\n",
              "      <th>Q2_6</th>\n",
              "      <th>Q2_7</th>\n",
              "      <th>Q2_8</th>\n",
              "      <th>Q2_9</th>\n",
              "      <th>Q2_10</th>\n",
              "      <th>Q3_1</th>\n",
              "      <th>Q3_2</th>\n",
              "      <th>Q3_3</th>\n",
              "      <th>Q3_4</th>\n",
              "      <th>Q3_5</th>\n",
              "      <th>Q3_6</th>\n",
              "      <th>Q4_1</th>\n",
              "      <th>Q4_2</th>\n",
              "      <th>Q4_3</th>\n",
              "      <th>Q4_4</th>\n",
              "      <th>Q4_5</th>\n",
              "      <th>Q4_6</th>\n",
              "      <th>Q5</th>\n",
              "      <th>Q6</th>\n",
              "      <th>Q7</th>\n",
              "      <th>Q8_1</th>\n",
              "      <th>Q8_2</th>\n",
              "      <th>Q8_3</th>\n",
              "      <th>Q8_4</th>\n",
              "      <th>Q8_5</th>\n",
              "      <th>Q8_6</th>\n",
              "      <th>Q8_7</th>\n",
              "      <th>Q8_8</th>\n",
              "      <th>Q8_9</th>\n",
              "      <th>Q9_1</th>\n",
              "      <th>Q9_2</th>\n",
              "      <th>Q9_3</th>\n",
              "      <th>...</th>\n",
              "      <th>Q21</th>\n",
              "      <th>Q22</th>\n",
              "      <th>Q23</th>\n",
              "      <th>Q24</th>\n",
              "      <th>Q25</th>\n",
              "      <th>Q26</th>\n",
              "      <th>Q27_1</th>\n",
              "      <th>Q27_2</th>\n",
              "      <th>Q27_3</th>\n",
              "      <th>Q27_4</th>\n",
              "      <th>Q27_5</th>\n",
              "      <th>Q27_6</th>\n",
              "      <th>Q28_1</th>\n",
              "      <th>Q28_2</th>\n",
              "      <th>Q28_3</th>\n",
              "      <th>Q28_4</th>\n",
              "      <th>Q28_5</th>\n",
              "      <th>Q28_6</th>\n",
              "      <th>Q28_7</th>\n",
              "      <th>Q28_8</th>\n",
              "      <th>Q29_1</th>\n",
              "      <th>Q29_2</th>\n",
              "      <th>Q29_3</th>\n",
              "      <th>Q29_4</th>\n",
              "      <th>Q29_5</th>\n",
              "      <th>Q29_6</th>\n",
              "      <th>Q29_7</th>\n",
              "      <th>Q29_8</th>\n",
              "      <th>Q29_9</th>\n",
              "      <th>Q29_10</th>\n",
              "      <th>Q30</th>\n",
              "      <th>Q31</th>\n",
              "      <th>Q32</th>\n",
              "      <th>Q33</th>\n",
              "      <th>ppage</th>\n",
              "      <th>educ</th>\n",
              "      <th>race</th>\n",
              "      <th>gender</th>\n",
              "      <th>income_cat</th>\n",
              "      <th>voter_category</th>\n",
              "    </tr>\n",
              "  </thead>\n",
              "  <tbody>\n",
              "    <tr>\n",
              "      <th>0</th>\n",
              "      <td>470001</td>\n",
              "      <td>0.7516</td>\n",
              "      <td>1</td>\n",
              "      <td>1</td>\n",
              "      <td>1</td>\n",
              "      <td>2</td>\n",
              "      <td>4</td>\n",
              "      <td>1</td>\n",
              "      <td>4</td>\n",
              "      <td>2</td>\n",
              "      <td>2</td>\n",
              "      <td>4</td>\n",
              "      <td>2</td>\n",
              "      <td>1</td>\n",
              "      <td>1</td>\n",
              "      <td>4</td>\n",
              "      <td>4</td>\n",
              "      <td>3</td>\n",
              "      <td>2</td>\n",
              "      <td>2</td>\n",
              "      <td>1</td>\n",
              "      <td>2</td>\n",
              "      <td>2</td>\n",
              "      <td>2</td>\n",
              "      <td>2</td>\n",
              "      <td>1</td>\n",
              "      <td>2</td>\n",
              "      <td>1</td>\n",
              "      <td>3</td>\n",
              "      <td>4</td>\n",
              "      <td>2</td>\n",
              "      <td>1</td>\n",
              "      <td>1</td>\n",
              "      <td>1</td>\n",
              "      <td>1</td>\n",
              "      <td>2</td>\n",
              "      <td>4</td>\n",
              "      <td>2</td>\n",
              "      <td>2</td>\n",
              "      <td>4</td>\n",
              "      <td>...</td>\n",
              "      <td>1</td>\n",
              "      <td>NaN</td>\n",
              "      <td>2</td>\n",
              "      <td>1</td>\n",
              "      <td>1</td>\n",
              "      <td>1</td>\n",
              "      <td>1</td>\n",
              "      <td>1</td>\n",
              "      <td>1</td>\n",
              "      <td>1</td>\n",
              "      <td>1</td>\n",
              "      <td>1</td>\n",
              "      <td>1.0</td>\n",
              "      <td>1.0</td>\n",
              "      <td>1.0</td>\n",
              "      <td>1.0</td>\n",
              "      <td>-1.0</td>\n",
              "      <td>-1.0</td>\n",
              "      <td>1.0</td>\n",
              "      <td>-1.0</td>\n",
              "      <td>NaN</td>\n",
              "      <td>NaN</td>\n",
              "      <td>NaN</td>\n",
              "      <td>NaN</td>\n",
              "      <td>NaN</td>\n",
              "      <td>NaN</td>\n",
              "      <td>NaN</td>\n",
              "      <td>NaN</td>\n",
              "      <td>NaN</td>\n",
              "      <td>NaN</td>\n",
              "      <td>2</td>\n",
              "      <td>NaN</td>\n",
              "      <td>1.0</td>\n",
              "      <td>NaN</td>\n",
              "      <td>73</td>\n",
              "      <td>College</td>\n",
              "      <td>White</td>\n",
              "      <td>Female</td>\n",
              "      <td>$75-125k</td>\n",
              "      <td>always</td>\n",
              "    </tr>\n",
              "    <tr>\n",
              "      <th>1</th>\n",
              "      <td>470002</td>\n",
              "      <td>1.0267</td>\n",
              "      <td>1</td>\n",
              "      <td>1</td>\n",
              "      <td>2</td>\n",
              "      <td>2</td>\n",
              "      <td>3</td>\n",
              "      <td>1</td>\n",
              "      <td>1</td>\n",
              "      <td>2</td>\n",
              "      <td>1</td>\n",
              "      <td>1</td>\n",
              "      <td>3</td>\n",
              "      <td>3</td>\n",
              "      <td>3</td>\n",
              "      <td>4</td>\n",
              "      <td>3</td>\n",
              "      <td>3</td>\n",
              "      <td>2</td>\n",
              "      <td>2</td>\n",
              "      <td>2</td>\n",
              "      <td>2</td>\n",
              "      <td>3</td>\n",
              "      <td>3</td>\n",
              "      <td>1</td>\n",
              "      <td>1</td>\n",
              "      <td>2</td>\n",
              "      <td>2</td>\n",
              "      <td>2</td>\n",
              "      <td>3</td>\n",
              "      <td>2</td>\n",
              "      <td>2</td>\n",
              "      <td>2</td>\n",
              "      <td>2</td>\n",
              "      <td>3</td>\n",
              "      <td>2</td>\n",
              "      <td>2</td>\n",
              "      <td>1</td>\n",
              "      <td>1</td>\n",
              "      <td>3</td>\n",
              "      <td>...</td>\n",
              "      <td>1</td>\n",
              "      <td>NaN</td>\n",
              "      <td>1</td>\n",
              "      <td>3</td>\n",
              "      <td>3</td>\n",
              "      <td>1</td>\n",
              "      <td>1</td>\n",
              "      <td>1</td>\n",
              "      <td>1</td>\n",
              "      <td>1</td>\n",
              "      <td>1</td>\n",
              "      <td>1</td>\n",
              "      <td>1.0</td>\n",
              "      <td>-1.0</td>\n",
              "      <td>-1.0</td>\n",
              "      <td>-1.0</td>\n",
              "      <td>-1.0</td>\n",
              "      <td>1.0</td>\n",
              "      <td>-1.0</td>\n",
              "      <td>-1.0</td>\n",
              "      <td>NaN</td>\n",
              "      <td>NaN</td>\n",
              "      <td>NaN</td>\n",
              "      <td>NaN</td>\n",
              "      <td>NaN</td>\n",
              "      <td>NaN</td>\n",
              "      <td>NaN</td>\n",
              "      <td>NaN</td>\n",
              "      <td>NaN</td>\n",
              "      <td>NaN</td>\n",
              "      <td>3</td>\n",
              "      <td>NaN</td>\n",
              "      <td>NaN</td>\n",
              "      <td>1.0</td>\n",
              "      <td>90</td>\n",
              "      <td>College</td>\n",
              "      <td>White</td>\n",
              "      <td>Female</td>\n",
              "      <td>$125k or more</td>\n",
              "      <td>always</td>\n",
              "    </tr>\n",
              "    <tr>\n",
              "      <th>2</th>\n",
              "      <td>470003</td>\n",
              "      <td>1.0844</td>\n",
              "      <td>1</td>\n",
              "      <td>1</td>\n",
              "      <td>1</td>\n",
              "      <td>2</td>\n",
              "      <td>2</td>\n",
              "      <td>1</td>\n",
              "      <td>1</td>\n",
              "      <td>2</td>\n",
              "      <td>1</td>\n",
              "      <td>4</td>\n",
              "      <td>3</td>\n",
              "      <td>2</td>\n",
              "      <td>2</td>\n",
              "      <td>3</td>\n",
              "      <td>3</td>\n",
              "      <td>2</td>\n",
              "      <td>2</td>\n",
              "      <td>2</td>\n",
              "      <td>2</td>\n",
              "      <td>3</td>\n",
              "      <td>3</td>\n",
              "      <td>2</td>\n",
              "      <td>3</td>\n",
              "      <td>1</td>\n",
              "      <td>1</td>\n",
              "      <td>1</td>\n",
              "      <td>3</td>\n",
              "      <td>2</td>\n",
              "      <td>1</td>\n",
              "      <td>1</td>\n",
              "      <td>2</td>\n",
              "      <td>2</td>\n",
              "      <td>2</td>\n",
              "      <td>2</td>\n",
              "      <td>1</td>\n",
              "      <td>1</td>\n",
              "      <td>2</td>\n",
              "      <td>4</td>\n",
              "      <td>...</td>\n",
              "      <td>1</td>\n",
              "      <td>NaN</td>\n",
              "      <td>2</td>\n",
              "      <td>1</td>\n",
              "      <td>2</td>\n",
              "      <td>1</td>\n",
              "      <td>1</td>\n",
              "      <td>1</td>\n",
              "      <td>1</td>\n",
              "      <td>1</td>\n",
              "      <td>1</td>\n",
              "      <td>1</td>\n",
              "      <td>1.0</td>\n",
              "      <td>-1.0</td>\n",
              "      <td>-1.0</td>\n",
              "      <td>-1.0</td>\n",
              "      <td>-1.0</td>\n",
              "      <td>-1.0</td>\n",
              "      <td>1.0</td>\n",
              "      <td>-1.0</td>\n",
              "      <td>NaN</td>\n",
              "      <td>NaN</td>\n",
              "      <td>NaN</td>\n",
              "      <td>NaN</td>\n",
              "      <td>NaN</td>\n",
              "      <td>NaN</td>\n",
              "      <td>NaN</td>\n",
              "      <td>NaN</td>\n",
              "      <td>NaN</td>\n",
              "      <td>NaN</td>\n",
              "      <td>2</td>\n",
              "      <td>NaN</td>\n",
              "      <td>2.0</td>\n",
              "      <td>NaN</td>\n",
              "      <td>53</td>\n",
              "      <td>College</td>\n",
              "      <td>White</td>\n",
              "      <td>Male</td>\n",
              "      <td>$125k or more</td>\n",
              "      <td>sporadic</td>\n",
              "    </tr>\n",
              "    <tr>\n",
              "      <th>3</th>\n",
              "      <td>470007</td>\n",
              "      <td>0.6817</td>\n",
              "      <td>1</td>\n",
              "      <td>1</td>\n",
              "      <td>1</td>\n",
              "      <td>1</td>\n",
              "      <td>3</td>\n",
              "      <td>1</td>\n",
              "      <td>1</td>\n",
              "      <td>1</td>\n",
              "      <td>1</td>\n",
              "      <td>1</td>\n",
              "      <td>2</td>\n",
              "      <td>1</td>\n",
              "      <td>1</td>\n",
              "      <td>4</td>\n",
              "      <td>4</td>\n",
              "      <td>2</td>\n",
              "      <td>1</td>\n",
              "      <td>1</td>\n",
              "      <td>2</td>\n",
              "      <td>2</td>\n",
              "      <td>2</td>\n",
              "      <td>2</td>\n",
              "      <td>2</td>\n",
              "      <td>1</td>\n",
              "      <td>3</td>\n",
              "      <td>1</td>\n",
              "      <td>3</td>\n",
              "      <td>2</td>\n",
              "      <td>2</td>\n",
              "      <td>2</td>\n",
              "      <td>2</td>\n",
              "      <td>2</td>\n",
              "      <td>2</td>\n",
              "      <td>2</td>\n",
              "      <td>2</td>\n",
              "      <td>1</td>\n",
              "      <td>2</td>\n",
              "      <td>4</td>\n",
              "      <td>...</td>\n",
              "      <td>1</td>\n",
              "      <td>NaN</td>\n",
              "      <td>2</td>\n",
              "      <td>1</td>\n",
              "      <td>2</td>\n",
              "      <td>1</td>\n",
              "      <td>1</td>\n",
              "      <td>1</td>\n",
              "      <td>1</td>\n",
              "      <td>1</td>\n",
              "      <td>1</td>\n",
              "      <td>1</td>\n",
              "      <td>1.0</td>\n",
              "      <td>1.0</td>\n",
              "      <td>-1.0</td>\n",
              "      <td>1.0</td>\n",
              "      <td>-1.0</td>\n",
              "      <td>-1.0</td>\n",
              "      <td>-1.0</td>\n",
              "      <td>-1.0</td>\n",
              "      <td>NaN</td>\n",
              "      <td>NaN</td>\n",
              "      <td>NaN</td>\n",
              "      <td>NaN</td>\n",
              "      <td>NaN</td>\n",
              "      <td>NaN</td>\n",
              "      <td>NaN</td>\n",
              "      <td>NaN</td>\n",
              "      <td>NaN</td>\n",
              "      <td>NaN</td>\n",
              "      <td>2</td>\n",
              "      <td>NaN</td>\n",
              "      <td>1.0</td>\n",
              "      <td>NaN</td>\n",
              "      <td>58</td>\n",
              "      <td>Some college</td>\n",
              "      <td>Black</td>\n",
              "      <td>Female</td>\n",
              "      <td>$40-75k</td>\n",
              "      <td>sporadic</td>\n",
              "    </tr>\n",
              "    <tr>\n",
              "      <th>4</th>\n",
              "      <td>480008</td>\n",
              "      <td>0.9910</td>\n",
              "      <td>1</td>\n",
              "      <td>1</td>\n",
              "      <td>1</td>\n",
              "      <td>-1</td>\n",
              "      <td>1</td>\n",
              "      <td>1</td>\n",
              "      <td>1</td>\n",
              "      <td>1</td>\n",
              "      <td>1</td>\n",
              "      <td>1</td>\n",
              "      <td>1</td>\n",
              "      <td>4</td>\n",
              "      <td>-1</td>\n",
              "      <td>1</td>\n",
              "      <td>1</td>\n",
              "      <td>2</td>\n",
              "      <td>4</td>\n",
              "      <td>1</td>\n",
              "      <td>1</td>\n",
              "      <td>1</td>\n",
              "      <td>1</td>\n",
              "      <td>1</td>\n",
              "      <td>1</td>\n",
              "      <td>1</td>\n",
              "      <td>2</td>\n",
              "      <td>2</td>\n",
              "      <td>1</td>\n",
              "      <td>3</td>\n",
              "      <td>2</td>\n",
              "      <td>3</td>\n",
              "      <td>3</td>\n",
              "      <td>3</td>\n",
              "      <td>4</td>\n",
              "      <td>2</td>\n",
              "      <td>2</td>\n",
              "      <td>1</td>\n",
              "      <td>4</td>\n",
              "      <td>3</td>\n",
              "      <td>...</td>\n",
              "      <td>1</td>\n",
              "      <td>NaN</td>\n",
              "      <td>1</td>\n",
              "      <td>3</td>\n",
              "      <td>1</td>\n",
              "      <td>1</td>\n",
              "      <td>1</td>\n",
              "      <td>1</td>\n",
              "      <td>1</td>\n",
              "      <td>1</td>\n",
              "      <td>1</td>\n",
              "      <td>1</td>\n",
              "      <td>1.0</td>\n",
              "      <td>1.0</td>\n",
              "      <td>1.0</td>\n",
              "      <td>-1.0</td>\n",
              "      <td>1.0</td>\n",
              "      <td>-1.0</td>\n",
              "      <td>1.0</td>\n",
              "      <td>-1.0</td>\n",
              "      <td>NaN</td>\n",
              "      <td>NaN</td>\n",
              "      <td>NaN</td>\n",
              "      <td>NaN</td>\n",
              "      <td>NaN</td>\n",
              "      <td>NaN</td>\n",
              "      <td>NaN</td>\n",
              "      <td>NaN</td>\n",
              "      <td>NaN</td>\n",
              "      <td>NaN</td>\n",
              "      <td>1</td>\n",
              "      <td>-1.0</td>\n",
              "      <td>NaN</td>\n",
              "      <td>NaN</td>\n",
              "      <td>81</td>\n",
              "      <td>High school or less</td>\n",
              "      <td>White</td>\n",
              "      <td>Male</td>\n",
              "      <td>$40-75k</td>\n",
              "      <td>always</td>\n",
              "    </tr>\n",
              "  </tbody>\n",
              "</table>\n",
              "<p>5 rows × 119 columns</p>\n",
              "</div>\n",
              "      <button class=\"colab-df-convert\" onclick=\"convertToInteractive('df-cba0046b-d7ec-41cd-a825-93b56ba64434')\"\n",
              "              title=\"Convert this dataframe to an interactive table.\"\n",
              "              style=\"display:none;\">\n",
              "        \n",
              "  <svg xmlns=\"http://www.w3.org/2000/svg\" height=\"24px\"viewBox=\"0 0 24 24\"\n",
              "       width=\"24px\">\n",
              "    <path d=\"M0 0h24v24H0V0z\" fill=\"none\"/>\n",
              "    <path d=\"M18.56 5.44l.94 2.06.94-2.06 2.06-.94-2.06-.94-.94-2.06-.94 2.06-2.06.94zm-11 1L8.5 8.5l.94-2.06 2.06-.94-2.06-.94L8.5 2.5l-.94 2.06-2.06.94zm10 10l.94 2.06.94-2.06 2.06-.94-2.06-.94-.94-2.06-.94 2.06-2.06.94z\"/><path d=\"M17.41 7.96l-1.37-1.37c-.4-.4-.92-.59-1.43-.59-.52 0-1.04.2-1.43.59L10.3 9.45l-7.72 7.72c-.78.78-.78 2.05 0 2.83L4 21.41c.39.39.9.59 1.41.59.51 0 1.02-.2 1.41-.59l7.78-7.78 2.81-2.81c.8-.78.8-2.07 0-2.86zM5.41 20L4 18.59l7.72-7.72 1.47 1.35L5.41 20z\"/>\n",
              "  </svg>\n",
              "      </button>\n",
              "      \n",
              "  <style>\n",
              "    .colab-df-container {\n",
              "      display:flex;\n",
              "      flex-wrap:wrap;\n",
              "      gap: 12px;\n",
              "    }\n",
              "\n",
              "    .colab-df-convert {\n",
              "      background-color: #E8F0FE;\n",
              "      border: none;\n",
              "      border-radius: 50%;\n",
              "      cursor: pointer;\n",
              "      display: none;\n",
              "      fill: #1967D2;\n",
              "      height: 32px;\n",
              "      padding: 0 0 0 0;\n",
              "      width: 32px;\n",
              "    }\n",
              "\n",
              "    .colab-df-convert:hover {\n",
              "      background-color: #E2EBFA;\n",
              "      box-shadow: 0px 1px 2px rgba(60, 64, 67, 0.3), 0px 1px 3px 1px rgba(60, 64, 67, 0.15);\n",
              "      fill: #174EA6;\n",
              "    }\n",
              "\n",
              "    [theme=dark] .colab-df-convert {\n",
              "      background-color: #3B4455;\n",
              "      fill: #D2E3FC;\n",
              "    }\n",
              "\n",
              "    [theme=dark] .colab-df-convert:hover {\n",
              "      background-color: #434B5C;\n",
              "      box-shadow: 0px 1px 3px 1px rgba(0, 0, 0, 0.15);\n",
              "      filter: drop-shadow(0px 1px 2px rgba(0, 0, 0, 0.3));\n",
              "      fill: #FFFFFF;\n",
              "    }\n",
              "  </style>\n",
              "\n",
              "      <script>\n",
              "        const buttonEl =\n",
              "          document.querySelector('#df-cba0046b-d7ec-41cd-a825-93b56ba64434 button.colab-df-convert');\n",
              "        buttonEl.style.display =\n",
              "          google.colab.kernel.accessAllowed ? 'block' : 'none';\n",
              "\n",
              "        async function convertToInteractive(key) {\n",
              "          const element = document.querySelector('#df-cba0046b-d7ec-41cd-a825-93b56ba64434');\n",
              "          const dataTable =\n",
              "            await google.colab.kernel.invokeFunction('convertToInteractive',\n",
              "                                                     [key], {});\n",
              "          if (!dataTable) return;\n",
              "\n",
              "          const docLinkHtml = 'Like what you see? Visit the ' +\n",
              "            '<a target=\"_blank\" href=https://colab.research.google.com/notebooks/data_table.ipynb>data table notebook</a>'\n",
              "            + ' to learn more about interactive tables.';\n",
              "          element.innerHTML = '';\n",
              "          dataTable['output_type'] = 'display_data';\n",
              "          await google.colab.output.renderOutput(dataTable, element);\n",
              "          const docLink = document.createElement('div');\n",
              "          docLink.innerHTML = docLinkHtml;\n",
              "          element.appendChild(docLink);\n",
              "        }\n",
              "      </script>\n",
              "    </div>\n",
              "  </div>\n",
              "  "
            ],
            "text/plain": [
              "   RespId  weight  Q1  Q2_1  ...   race  gender     income_cat  voter_category\n",
              "0  470001  0.7516   1     1  ...  White  Female       $75-125k          always\n",
              "1  470002  1.0267   1     1  ...  White  Female  $125k or more          always\n",
              "2  470003  1.0844   1     1  ...  White    Male  $125k or more        sporadic\n",
              "3  470007  0.6817   1     1  ...  Black  Female        $40-75k        sporadic\n",
              "4  480008  0.9910   1     1  ...  White    Male        $40-75k          always\n",
              "\n",
              "[5 rows x 119 columns]"
            ]
          },
          "metadata": {},
          "execution_count": 4
        }
      ]
    },
    {
      "cell_type": "markdown",
      "source": [
        "Kaggle specified this as 'non voter' data but I see below that it includes general voter data in categories of people who vote sporadically, always, or rarely/never. I think this could be a good categorical variable to compare demographics around"
      ],
      "metadata": {
        "id": "LiKVOxVEOHAD"
      }
    },
    {
      "cell_type": "code",
      "source": [
        "nonvoter['voter_category'].value_counts()"
      ],
      "metadata": {
        "colab": {
          "base_uri": "https://localhost:8080/"
        },
        "id": "knzwmGqeMSoC",
        "outputId": "8317f6a0-19b3-4afa-bfec-434e4af2a861"
      },
      "execution_count": null,
      "outputs": [
        {
          "output_type": "execute_result",
          "data": {
            "text/plain": [
              "sporadic        2574\n",
              "always          1811\n",
              "rarely/never    1451\n",
              "Name: voter_category, dtype: int64"
            ]
          },
          "metadata": {},
          "execution_count": 5
        }
      ]
    },
    {
      "cell_type": "markdown",
      "source": [
        "I find from the code below that the column lenghts are all not the same, meaning we may have na values"
      ],
      "metadata": {
        "id": "lw1hDi3pOYG7"
      }
    },
    {
      "cell_type": "code",
      "source": [
        "nonvoter.count().unique()"
      ],
      "metadata": {
        "colab": {
          "base_uri": "https://localhost:8080/"
        },
        "id": "_PvCxHh7NJYU",
        "outputId": "fb38724c-e15d-42da-959f-d2aee5b4e26e"
      },
      "execution_count": null,
      "outputs": [
        {
          "output_type": "execute_result",
          "data": {
            "text/plain": [
              "array([5836,  486, 5302, 1342, 1592, 2002, 2242])"
            ]
          },
          "metadata": {},
          "execution_count": 6
        }
      ]
    },
    {
      "cell_type": "markdown",
      "source": [
        "Confirming existance of na values"
      ],
      "metadata": {
        "id": "TUeWQbhLOc3F"
      }
    },
    {
      "cell_type": "code",
      "source": [
        "nonvoter.isnull().sum().to_dict()"
      ],
      "metadata": {
        "colab": {
          "base_uri": "https://localhost:8080/"
        },
        "id": "KtupRxIFNTK9",
        "outputId": "a702f08f-103f-4f93-fa44-80fc0ef7f7a4"
      },
      "execution_count": null,
      "outputs": [
        {
          "output_type": "execute_result",
          "data": {
            "text/plain": [
              "{'Q1': 0,\n",
              " 'Q10_1': 0,\n",
              " 'Q10_2': 0,\n",
              " 'Q10_3': 0,\n",
              " 'Q10_4': 0,\n",
              " 'Q11_1': 0,\n",
              " 'Q11_2': 0,\n",
              " 'Q11_3': 0,\n",
              " 'Q11_4': 0,\n",
              " 'Q11_5': 0,\n",
              " 'Q11_6': 0,\n",
              " 'Q14': 0,\n",
              " 'Q15': 0,\n",
              " 'Q16': 0,\n",
              " 'Q17_1': 0,\n",
              " 'Q17_2': 0,\n",
              " 'Q17_3': 0,\n",
              " 'Q17_4': 0,\n",
              " 'Q18_1': 0,\n",
              " 'Q18_10': 0,\n",
              " 'Q18_2': 0,\n",
              " 'Q18_3': 0,\n",
              " 'Q18_4': 0,\n",
              " 'Q18_5': 0,\n",
              " 'Q18_6': 0,\n",
              " 'Q18_7': 0,\n",
              " 'Q18_8': 0,\n",
              " 'Q18_9': 0,\n",
              " 'Q19_1': 0,\n",
              " 'Q19_10': 0,\n",
              " 'Q19_2': 0,\n",
              " 'Q19_3': 0,\n",
              " 'Q19_4': 0,\n",
              " 'Q19_5': 0,\n",
              " 'Q19_6': 0,\n",
              " 'Q19_7': 0,\n",
              " 'Q19_8': 0,\n",
              " 'Q19_9': 0,\n",
              " 'Q20': 0,\n",
              " 'Q21': 0,\n",
              " 'Q22': 5350,\n",
              " 'Q23': 0,\n",
              " 'Q24': 0,\n",
              " 'Q25': 0,\n",
              " 'Q26': 0,\n",
              " 'Q27_1': 0,\n",
              " 'Q27_2': 0,\n",
              " 'Q27_3': 0,\n",
              " 'Q27_4': 0,\n",
              " 'Q27_5': 0,\n",
              " 'Q27_6': 0,\n",
              " 'Q28_1': 534,\n",
              " 'Q28_2': 534,\n",
              " 'Q28_3': 534,\n",
              " 'Q28_4': 534,\n",
              " 'Q28_5': 534,\n",
              " 'Q28_6': 534,\n",
              " 'Q28_7': 534,\n",
              " 'Q28_8': 534,\n",
              " 'Q29_1': 4494,\n",
              " 'Q29_10': 4494,\n",
              " 'Q29_2': 4494,\n",
              " 'Q29_3': 4494,\n",
              " 'Q29_4': 4494,\n",
              " 'Q29_5': 4494,\n",
              " 'Q29_6': 4494,\n",
              " 'Q29_7': 4494,\n",
              " 'Q29_8': 4494,\n",
              " 'Q29_9': 4494,\n",
              " 'Q2_1': 0,\n",
              " 'Q2_10': 0,\n",
              " 'Q2_2': 0,\n",
              " 'Q2_3': 0,\n",
              " 'Q2_4': 0,\n",
              " 'Q2_5': 0,\n",
              " 'Q2_6': 0,\n",
              " 'Q2_7': 0,\n",
              " 'Q2_8': 0,\n",
              " 'Q2_9': 0,\n",
              " 'Q30': 0,\n",
              " 'Q31': 4244,\n",
              " 'Q32': 3834,\n",
              " 'Q33': 3594,\n",
              " 'Q3_1': 0,\n",
              " 'Q3_2': 0,\n",
              " 'Q3_3': 0,\n",
              " 'Q3_4': 0,\n",
              " 'Q3_5': 0,\n",
              " 'Q3_6': 0,\n",
              " 'Q4_1': 0,\n",
              " 'Q4_2': 0,\n",
              " 'Q4_3': 0,\n",
              " 'Q4_4': 0,\n",
              " 'Q4_5': 0,\n",
              " 'Q4_6': 0,\n",
              " 'Q5': 0,\n",
              " 'Q6': 0,\n",
              " 'Q7': 0,\n",
              " 'Q8_1': 0,\n",
              " 'Q8_2': 0,\n",
              " 'Q8_3': 0,\n",
              " 'Q8_4': 0,\n",
              " 'Q8_5': 0,\n",
              " 'Q8_6': 0,\n",
              " 'Q8_7': 0,\n",
              " 'Q8_8': 0,\n",
              " 'Q8_9': 0,\n",
              " 'Q9_1': 0,\n",
              " 'Q9_2': 0,\n",
              " 'Q9_3': 0,\n",
              " 'Q9_4': 0,\n",
              " 'RespId': 0,\n",
              " 'educ': 0,\n",
              " 'gender': 0,\n",
              " 'income_cat': 0,\n",
              " 'ppage': 0,\n",
              " 'race': 0,\n",
              " 'voter_category': 0,\n",
              " 'weight': 0}"
            ]
          },
          "metadata": {},
          "execution_count": 7
        }
      ]
    },
    {
      "cell_type": "markdown",
      "source": [
        "Through some EDA and looking through the codebook of this data, I find that the reason for many NaN values is due to the nature of questions being asked, such as if you answered yes in question _x_ what is the reason for doing so in question _y_. Thus the people who vote no in question _x_ will leave _y_ blank. I will continue on with my analysis leaving the NaN intact as my analysis will ensure only relevant questions are analyzed with each other. Moreover, there are no Na vlaues in main categories such as gender, income, race."
      ],
      "metadata": {
        "id": "4b9T1eXERYlV"
      }
    },
    {
      "cell_type": "code",
      "source": [
        "nonvoter['gender'].unique()"
      ],
      "metadata": {
        "colab": {
          "base_uri": "https://localhost:8080/"
        },
        "id": "0BuQ-I7zO0Le",
        "outputId": "d00d6427-fcc8-44d0-fbb3-49cdd6d08d84"
      },
      "execution_count": null,
      "outputs": [
        {
          "output_type": "execute_result",
          "data": {
            "text/plain": [
              "array(['Female', 'Male'], dtype=object)"
            ]
          },
          "metadata": {},
          "execution_count": 8
        }
      ]
    },
    {
      "cell_type": "markdown",
      "source": [
        "Is there some difference in gender for people of different voter categories?"
      ],
      "metadata": {
        "id": "IqQMeXQsXZ0P"
      }
    },
    {
      "cell_type": "code",
      "source": [
        " sns.histplot(x=\"voter_category\", data=nonvoter, hue='gender', multiple=\"stack\")"
      ],
      "metadata": {
        "colab": {
          "base_uri": "https://localhost:8080/",
          "height": 297
        },
        "id": "Awk4YfavQdfV",
        "outputId": "416a8e20-a4cb-4d57-c8d4-2bbfeb4f0ef2"
      },
      "execution_count": null,
      "outputs": [
        {
          "output_type": "execute_result",
          "data": {
            "text/plain": [
              "<matplotlib.axes._subplots.AxesSubplot at 0x7f94d8558710>"
            ]
          },
          "metadata": {},
          "execution_count": 9
        },
        {
          "output_type": "display_data",
          "data": {
            "image/png": "[encoded data removed]",
            "text/plain": [
              "<Figure size 432x288 with 1 Axes>"
            ]
          },
          "metadata": {
            "needs_background": "light"
          }
        }
      ]
    },
    {
      "cell_type": "markdown",
      "source": [
        "Looking at the histogram, there is does not seem to be any drastic gender differences for the three different voter categories."
      ],
      "metadata": {
        "id": "gyeOQTMbXdPh"
      }
    },
    {
      "cell_type": "markdown",
      "source": [
        "What about race?"
      ],
      "metadata": {
        "id": "iX7HQ7NUXlpm"
      }
    },
    {
      "cell_type": "code",
      "source": [
        " sns.histplot(x=\"voter_category\", data=nonvoter, hue='race', multiple=\"stack\")"
      ],
      "metadata": {
        "colab": {
          "base_uri": "https://localhost:8080/",
          "height": 297
        },
        "id": "XnUIjrz1VTYG",
        "outputId": "764728bb-2770-4c2d-abbb-87519f84483d"
      },
      "execution_count": null,
      "outputs": [
        {
          "output_type": "execute_result",
          "data": {
            "text/plain": [
              "<matplotlib.axes._subplots.AxesSubplot at 0x7f94d7992510>"
            ]
          },
          "metadata": {},
          "execution_count": 10
        },
        {
          "output_type": "display_data",
          "data": {
            "image/png": "[encoded data removed]",
            "text/plain": [
              "<Figure size 432x288 with 1 Axes>"
            ]
          },
          "metadata": {
            "needs_background": "light"
          }
        }
      ]
    },
    {
      "cell_type": "markdown",
      "source": [
        "Here we find that race is not as evenly distributed as gender was. Majority of respondants in this case are white but there is some other representation of black, hispanic, and other races"
      ],
      "metadata": {
        "id": "N_mn3MwcXoMN"
      }
    },
    {
      "cell_type": "markdown",
      "source": [
        "What about income?"
      ],
      "metadata": {
        "id": "0ISrar_AYIpN"
      }
    },
    {
      "cell_type": "code",
      "source": [
        " sns.histplot(x=\"voter_category\", data=nonvoter, hue='income_cat', multiple=\"stack\")"
      ],
      "metadata": {
        "colab": {
          "base_uri": "https://localhost:8080/",
          "height": 297
        },
        "id": "U3VXeOynVyPU",
        "outputId": "c507defb-cc6c-472f-d208-1c7346ae7f0d"
      },
      "execution_count": null,
      "outputs": [
        {
          "output_type": "execute_result",
          "data": {
            "text/plain": [
              "<matplotlib.axes._subplots.AxesSubplot at 0x7f94d74fdb50>"
            ]
          },
          "metadata": {},
          "execution_count": 11
        },
        {
          "output_type": "display_data",
          "data": {
            "image/png": "[encoded data removed]",
            "text/plain": [
              "<Figure size 432x288 with 1 Axes>"
            ]
          },
          "metadata": {
            "needs_background": "light"
          }
        }
      ]
    },
    {
      "cell_type": "markdown",
      "source": [
        "We find from this visualization that again nothing stands out as being overrepresented in terms of income categories. However, notice that in those who 'always' vote, blue and yellow (higher income) is more represented compared to red (low income). Also notice that in those who 'rarely/never' vote the results are opposite where there are more people who are low income compared to high income. Sporadic voters seems to be the most evenly distributed. I think this shows something very interesting on how income plays into voting. There seems to be a linear releatationship of sorts where if you vote, you may be likeley to have a higher income compared to those who don't vote. Good for additional analysis."
      ],
      "metadata": {
        "id": "TzJNlF50YMl0"
      }
    },
    {
      "cell_type": "markdown",
      "source": [
        "What about education?"
      ],
      "metadata": {
        "id": "-j0CCA2SYKXy"
      }
    },
    {
      "cell_type": "code",
      "source": [
        " sns.histplot(x=\"voter_category\", data=nonvoter, hue='educ', multiple=\"stack\")"
      ],
      "metadata": {
        "colab": {
          "base_uri": "https://localhost:8080/",
          "height": 297
        },
        "id": "4YCICdeDYC2W",
        "outputId": "43959c0f-f11a-4add-bad8-b30278105ce6"
      },
      "execution_count": null,
      "outputs": [
        {
          "output_type": "execute_result",
          "data": {
            "text/plain": [
              "<matplotlib.axes._subplots.AxesSubplot at 0x7f94d74c1310>"
            ]
          },
          "metadata": {},
          "execution_count": 12
        },
        {
          "output_type": "display_data",
          "data": {
            "image/png": "[encoded data removed]",
            "text/plain": [
              "<Figure size 432x288 with 1 Axes>"
            ]
          },
          "metadata": {
            "needs_background": "light"
          }
        }
      ]
    },
    {
      "cell_type": "markdown",
      "source": [
        "Similar to income, we find that people who always vote have more college education compared to those who never/rarely vote having high school or less education. Sporadic voting seems to also have an even spread of education levels which is interesting."
      ],
      "metadata": {
        "id": "joXkOKStYxU9"
      }
    },
    {
      "cell_type": "markdown",
      "source": [
        "Given that the distribution for education and income was similar across the two histograms, is there a association between education and income?"
      ],
      "metadata": {
        "id": "qgHQJultfdZ6"
      }
    },
    {
      "cell_type": "code",
      "source": [
        " sns.histplot(x=\"income_cat\", data=nonvoter, hue='educ', multiple=\"stack\")"
      ],
      "metadata": {
        "colab": {
          "base_uri": "https://localhost:8080/",
          "height": 297
        },
        "id": "ywuD0MOMYGdK",
        "outputId": "5686ce5d-fac5-428e-80e8-18070e836f41"
      },
      "execution_count": null,
      "outputs": [
        {
          "output_type": "execute_result",
          "data": {
            "text/plain": [
              "<matplotlib.axes._subplots.AxesSubplot at 0x7f94d701c5d0>"
            ]
          },
          "metadata": {},
          "execution_count": 17
        },
        {
          "output_type": "display_data",
          "data": {
            "image/png": "[encoded data removed]",
            "text/plain": [
              "<Figure size 432x288 with 1 Axes>"
            ]
          },
          "metadata": {
            "needs_background": "light"
          }
        }
      ]
    },
    {
      "cell_type": "markdown",
      "source": [
        "Looks like we see that there is indeed an association between income and education where there is a much larger distribution of people with high school or less education earning less than 40k compared to those with a college education mainly earning more than 125k"
      ],
      "metadata": {
        "id": "lkWw7NwvgPrH"
      }
    },
    {
      "cell_type": "markdown",
      "source": [
        "My next question: Do Americans believe it is important to vote in order to be a good citizen of America?"
      ],
      "metadata": {
        "id": "7U7COvOKgkrw"
      }
    },
    {
      "cell_type": "code",
      "source": [
        "nonvoter['Q2_1'].value_counts()"
      ],
      "metadata": {
        "colab": {
          "base_uri": "https://localhost:8080/"
        },
        "id": "HF6kVjPJgdiG",
        "outputId": "f43804e3-60e5-4d2c-f784-cf6bd2705f91"
      },
      "execution_count": null,
      "outputs": [
        {
          "output_type": "execute_result",
          "data": {
            "text/plain": [
              " 1    4758\n",
              " 2     738\n",
              " 4     160\n",
              " 3     145\n",
              "-1      35\n",
              "Name: Q2_1, dtype: int64"
            ]
          },
          "metadata": {},
          "execution_count": 22
        }
      ]
    },
    {
      "cell_type": "markdown",
      "source": [
        "Looking at value counts, 1 is very important, which seems that regardless of voter categories many people do consider voting to be very important."
      ],
      "metadata": {
        "id": "09oovxS9h1nF"
      }
    },
    {
      "cell_type": "markdown",
      "source": [
        "All of question 3 variables focus on race in America and considering we found above that the majority of the population is white, I think it will be interesting to see racial sentiments across the united states. Since there are multiple questions across this variable, I am going to add up all the responses together to create one racial column where lower numbers mean people do care about racial equality. Q3_3 will be excluded as its answers are opposite in sentiment."
      ],
      "metadata": {
        "id": "qHEj1jiHiEd1"
      }
    },
    {
      "cell_type": "code",
      "source": [
        "nonvoter['racesent'] = nonvoter['Q3_1'] + nonvoter['Q3_2'] + nonvoter['Q3_4'] + nonvoter['Q3_5'] + nonvoter['Q3_6']\n",
        "nonvoter['racesent'].value_counts()\n",
        "sns.histplot(x=\"racesent\", data=nonvoter)"
      ],
      "metadata": {
        "colab": {
          "base_uri": "https://localhost:8080/",
          "height": 296
        },
        "id": "thXsck8ZhhqY",
        "outputId": "75023806-2a38-4f5e-c2c5-7ef76f1e3fa4"
      },
      "execution_count": null,
      "outputs": [
        {
          "output_type": "execute_result",
          "data": {
            "text/plain": [
              "<matplotlib.axes._subplots.AxesSubplot at 0x7f94d6e974d0>"
            ]
          },
          "metadata": {},
          "execution_count": 31
        },
        {
          "output_type": "display_data",
          "data": {
            "image/png": "[encoded data removed]",
            "text/plain": [
              "<Figure size 432x288 with 1 Axes>"
            ]
          },
          "metadata": {
            "needs_background": "light"
          }
        }
      ]
    },
    {
      "cell_type": "markdown",
      "source": [
        "For me, this independent project is about trial and error, I think a graph like this is hard to interpret given answers range from values of 1-4. Since we are concatenating 5 questions, 5 would mean that people strongly think race is an issue in America - racism for example. Thus, an answer of 20 would mean people strongly don't find racism/race as something to be dealt with. Given this info, it seems we get a normal curve with most people ranging around the middle of 5 and 20 (with some clear outliers probably due to missing values being inputted as -1 rather than nan)."
      ],
      "metadata": {
        "id": "OmvtOor1kAzy"
      }
    },
    {
      "cell_type": "markdown",
      "source": [
        "Given the above graph wasn't the most clear for me, I think individual histograms per question may be more important and clear"
      ],
      "metadata": {
        "id": "ANtWPHC4kvCc"
      }
    },
    {
      "cell_type": "code",
      "source": [
        "sns.displot(nonvoter, x=\"Q3_1\", kind=\"kde\")\n",
        "sns.displot(nonvoter, x=\"Q3_2\", kind=\"kde\")\n",
        "sns.displot(nonvoter, x=\"Q3_3\", kind=\"kde\")\n",
        "sns.displot(nonvoter, x=\"Q3_4\", kind=\"kde\")\n",
        "sns.displot(nonvoter, x=\"Q3_5\", kind=\"kde\")\n",
        "sns.displot(nonvoter, x=\"Q3_6\", kind=\"kde\")\n",
        "\n"
      ],
      "metadata": {
        "colab": {
          "base_uri": "https://localhost:8080/",
          "height": 1000
        },
        "id": "cpDcnr48iFIy",
        "outputId": "03dfb35f-6148-4c46-8951-4fcbd15a46ca"
      },
      "execution_count": null,
      "outputs": [
        {
          "output_type": "execute_result",
          "data": {
            "text/plain": [
              "<seaborn.axisgrid.FacetGrid at 0x7f94d7423d90>"
            ]
          },
          "metadata": {},
          "execution_count": 44
        },
        {
          "output_type": "display_data",
          "data": {
            "image/png": "[encoded data removed]",
            "text/plain": [
              "<Figure size 360x360 with 1 Axes>"
            ]
          },
          "metadata": {
            "needs_background": "light"
          }
        },
        {
          "output_type": "display_data",
          "data": {
            "image/png": "[encoded data removed]",
            "text/plain": [
              "<Figure size 360x360 with 1 Axes>"
            ]
          },
          "metadata": {
            "needs_background": "light"
          }
        },
        {
          "output_type": "display_data",
          "data": {
            "image/png": "[encoded data removed]",
            "text/plain": [
              "<Figure size 360x360 with 1 Axes>"
            ]
          },
          "metadata": {
            "needs_background": "light"
          }
        },
        {
          "output_type": "display_data",
          "data": {
            "image/png": "[encoded data removed]",
            "text/plain": [
              "<Figure size 360x360 with 1 Axes>"
            ]
          },
          "metadata": {
            "needs_background": "light"
          }
        },
        {
          "output_type": "display_data",
          "data": {
            "image/png": "[encoded data removed]",
            "text/plain": [
              "<Figure size 360x360 with 1 Axes>"
            ]
          },
          "metadata": {
            "needs_background": "light"
          }
        },
        {
          "output_type": "display_data",
          "data": {
            "image/png": "[encoded data removed]",
            "text/plain": [
              "<Figure size 360x360 with 1 Axes>"
            ]
          },
          "metadata": {
            "needs_background": "light"
          }
        }
      ]
    },
    {
      "cell_type": "markdown",
      "source": [
        "From these KDE's we find more interesting results.\n",
        "Question 1 asks if systematic racism is a problem in the US and we find that most people stated '1' that they strongly agree. It is good to see such a sentiment across the white demographic\n",
        "Question 2 asks if systematic racism is a bigger problem than violance and vandalism in police and we find that the majority answered 1 but other values are also reaching high up so results seem to be inconclusive towards one strong sentiment.\n",
        "Quesiton 3 asks if society has become soft and feminine and it is good to find that most people do tend to disagree with such a statement.\n",
        "Quesiton 4 finds that most people do think media cares more about money than telling the truth.\n",
        "Question 5 revolves around agreeing somewhat in that traditional parties don't care about people like me. I think seeing somewhat agree on this is interesting since white people are the most represented. Maybe education or income demographics are coming into play here.\n",
        "Finally, question 6 asks if people need to change the way they talk with the times and again people somewhat agree. It would be interesting to research what changes people think need to be made specifically.\n",
        "\n",
        "\n",
        "\n"
      ],
      "metadata": {
        "id": "vLcZSkeAlzaz"
      }
    },
    {
      "cell_type": "code",
      "source": [],
      "metadata": {
        "id": "eD_yfTInlDT6"
      },
      "execution_count": null,
      "outputs": []
    }
  ]
}